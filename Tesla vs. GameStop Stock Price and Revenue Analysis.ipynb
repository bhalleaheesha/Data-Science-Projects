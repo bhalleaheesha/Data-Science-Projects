{
 "cells": [
  {
   "cell_type": "markdown",
   "id": "dfb636e9-4fef-4ac0-8e29-f262e9bf6803",
   "metadata": {},
   "source": [
    "As a data scientist working for an investment firm, we will extract the revenue data for Tesla and GameStop and build a dashboard to compare the price of the stock vs the revenue. "
   ]
  },
  {
   "cell_type": "markdown",
   "id": "d1c0c247-f1c4-4045-aee5-aaeab2bbbb35",
   "metadata": {},
   "source": [
    "1. Extracting Tesla Stock Data Using yfinance: \n",
    "    This section demonstrates the use of the yfinance library to extract historical stock data for Tesla, enabling the analysis of stock price trends over time."
   ]
  },
  {
   "cell_type": "code",
   "execution_count": null,
   "id": "a4e31dc5-3bf6-45f2-bcef-40fea841d643",
   "metadata": {},
   "outputs": [],
   "source": [
    "!pip install yfinance\n",
    "import yfinance as yf"
   ]
  },
  {
   "cell_type": "code",
   "execution_count": 2,
   "id": "8dcaea71-d737-4b55-919e-18b9d414765f",
   "metadata": {},
   "outputs": [],
   "source": [
    "tesla = yf.Ticker(\"TSLA\")\n",
    "tesla_data = tesla.history(period=\"max\")"
   ]
  },
  {
   "cell_type": "code",
   "execution_count": null,
   "id": "ff9471a8-c9aa-4cfd-8eb4-d9777577cb48",
   "metadata": {},
   "outputs": [],
   "source": [
    "print(tesla_data.head())"
   ]
  },
  {
   "cell_type": "code",
   "execution_count": null,
   "id": "1301dbc6-2df3-4b1f-96f5-4a469fd179f3",
   "metadata": {},
   "outputs": [],
   "source": [
    "import yfinance as yf\n",
    "tesla_data = yf.download('TSLA', start='2020-01-01', end='2025-01-01')\n",
    "tesla_data.to_csv(\"tesla_stock_data.csv\")"
   ]
  },
  {
   "cell_type": "markdown",
   "id": "230e6ab6-8c8b-41d3-96f8-235f7d59bf1c",
   "metadata": {},
   "source": [
    "2. Extracting Tesla Revenue Data Using Webscraping:\n",
    "    Using web scraping techniques, we extracted Tesla's revenue data from a trusted financial website to understand its financial performance alongside stock trends."
   ]
  },
  {
   "cell_type": "code",
   "execution_count": 5,
   "id": "8d1d05f7-d3ff-4d89-ab58-2e38a56ae531",
   "metadata": {},
   "outputs": [],
   "source": [
    "import requests\n",
    "from bs4 import BeautifulSoup\n",
    "import pandas as pd"
   ]
  },
  {
   "cell_type": "code",
   "execution_count": 6,
   "id": "90db9602-0fca-4c64-b737-ad89338e0e8b",
   "metadata": {},
   "outputs": [],
   "source": [
    "url = \"https://www.macrotrends.net/stocks/charts/TSLA/tesla/revenue\"\n",
    "response = requests.get(url)\n",
    "soup = BeautifulSoup(response.text, \"html.parser\")"
   ]
  },
  {
   "cell_type": "code",
   "execution_count": null,
   "id": "66db86a1-1e32-44a4-978f-9e5a92434354",
   "metadata": {},
   "outputs": [],
   "source": [
    "tables = soup.find_all(\"table\")\n",
    "print(f\"Number of tables found: {len(tables)}\")\n",
    "for i, table in enumerate(tables[:3]):  # Print the first 3 tables\n",
    "    print(f\"Table {i}:\")\n",
    "    print(table.prettify())  # Use prettify for easier reading of the HTML\n",
    "if len(tables) > 1:\n",
    "    revenue_table = tables[1]  # Select the second table\n",
    "    # Read the HTML table into a DataFrame\n",
    "    revenue_data = pd.read_html(str(revenue_table))[0]\n",
    "    revenue_data.columns = [\"Date\", \"Revenue\"]\n",
    "    revenue_data[\"Revenue\"] = revenue_data[\"Revenue\"].str.replace(\",\", \"\").str.replace(\"$\", \"\").astype(float)\n",
    "    revenue_data[\"Date\"] = pd.to_datetime(revenue_data[\"Date\"])\n",
    "    print(revenue_data.head())  # Print the first few rows of the DataFrame\n",
    "else:\n",
    "    print(\"Error: Not enough tables found.\")\n"
   ]
  },
  {
   "cell_type": "markdown",
   "id": "c1fc912b-beaa-4eb8-b440-48e3ba77011e",
   "metadata": {},
   "source": [
    "3. Extracting GameStop Stock Data Using yfinance:\n",
    "   This step involves extracting GameStop's stock data using the yfinance library to evaluate stock price behavior and market trends."
   ]
  },
  {
   "cell_type": "code",
   "execution_count": 8,
   "id": "ad4e998a-c6da-4520-9aa1-99a76bd16754",
   "metadata": {},
   "outputs": [],
   "source": [
    "gamestop = yf.Ticker(\"GME\")\n",
    "gamestop_data = gamestop.history(period=\"max\")"
   ]
  },
  {
   "cell_type": "code",
   "execution_count": null,
   "id": "1dce7e7c-3aaa-4271-afc5-bc6ccd932c2a",
   "metadata": {},
   "outputs": [],
   "source": [
    "print(gamestop_data.head())\n",
    "gamestop_data.to_csv(\"gamestop_stock_data.csv\")"
   ]
  },
  {
   "cell_type": "markdown",
   "id": "cc3f9677-6862-4d75-9cb8-784ea5aa468f",
   "metadata": {},
   "source": [
    "4. Extracting GameStop Revenue Data Using Webscraping:\n",
    "   Revenue data for GameStop was extracted using web scraping to provide insights into the company’s financial growth and performance over time."
   ]
  },
  {
   "cell_type": "code",
   "execution_count": 10,
   "id": "84acabac-7387-465b-a594-2d5122edee75",
   "metadata": {},
   "outputs": [],
   "source": [
    "url = \"https://www.macrotrends.net/stocks/charts/GME/gamestop/revenue\"\n",
    "response = requests.get(url)\n",
    "soup = BeautifulSoup(response.text, \"html.parser\")"
   ]
  },
  {
   "cell_type": "code",
   "execution_count": null,
   "id": "f1857675-5600-435c-8821-0921bd6779f7",
   "metadata": {},
   "outputs": [],
   "source": [
    "tables = soup.find_all(\"table\")\n",
    "\n",
    "if len(tables) > 1:\n",
    "    revenue_table = tables[1]\n",
    "    revenue_data = pd.read_html(str(revenue_table))[0]\n",
    "    revenue_data.columns = [\"Date\", \"Revenue\"]\n",
    "    revenue_data[\"Revenue\"] = revenue_data[\"Revenue\"].str.replace(\",\", \"\").str.replace(\"$\", \"\").astype(float)\n",
    "    revenue_data[\"Date\"] = pd.to_datetime(revenue_data[\"Date\"])\n",
    "    revenue_data.to_csv(\"gamestop_revenue.csv\")\n",
    "    print(revenue_data.tail())\n",
    "else:\n",
    "    print(\"Error: Not enough tables found.\")"
   ]
  },
  {
   "cell_type": "markdown",
   "id": "fd913765-5a07-4db6-a33f-56b3a3c607d7",
   "metadata": {},
   "source": [
    "5. Tesla Stock and Revenue Dashboard: A visualization dashboard comparing Tesla’s stock price against its revenue data, allowing for a clear understanding of the relationship between stock performance and financial results."
   ]
  },
  {
   "cell_type": "code",
   "execution_count": 12,
   "id": "e7ebcf76-5ec7-4cac-9d08-a3a22abd4d4a",
   "metadata": {},
   "outputs": [],
   "source": [
    "import plotly.graph_objects as go\n",
    "\n",
    "def make_graph(stock_data, title):\n",
    "    fig = go.Figure()\n",
    "\n",
    "    fig.add_trace(go.Scatter(\n",
    "        x=stock_data.index,\n",
    "        y=stock_data[\"Close\"],\n",
    "        mode=\"lines\",\n",
    "        name=\"Stock Price\"\n",
    "    ))\n",
    "\n",
    "    fig.update_layout(\n",
    "        title=title,\n",
    "        xaxis_title=\"Date\",\n",
    "        yaxis_title=\"Stock Price (USD)\",\n",
    "        template=\"plotly_white\"\n",
    "    )\n",
    "\n",
    "    fig.show()\n"
   ]
  },
  {
   "cell_type": "code",
   "execution_count": null,
   "id": "38b8d6fe-c42c-4cf2-814d-b6a2bafa3f1a",
   "metadata": {},
   "outputs": [],
   "source": [
    "import pandas as pd\n",
    "tesla_data = pd.read_csv(\"tesla_stock_data.csv\")\n",
    "print(tesla_data.columns)"
   ]
  },
  {
   "cell_type": "code",
   "execution_count": null,
   "id": "f61c9fd9-947a-44ad-a683-b2d3e3e65ab6",
   "metadata": {},
   "outputs": [],
   "source": [
    "make_graph(tesla_data, \"Tesla Stock Price Over Time\")"
   ]
  },
  {
   "cell_type": "markdown",
   "id": "678a29b2-79c4-4237-ae56-148159b60d1e",
   "metadata": {},
   "source": [
    "6. GameStop Stock and Revenue Dashboard:\n",
    "   A dashboard visualizing the comparison of GameStop’s stock price with its revenue, providing insights into the correlation between stock value and business performance."
   ]
  },
  {
   "cell_type": "code",
   "execution_count": 15,
   "id": "fefac278-9757-40c3-8ab4-127298188994",
   "metadata": {},
   "outputs": [],
   "source": [
    "gamestop_data = pd.read_csv(\"gamestop_stock_data.csv\", parse_dates=[\"Date\"], index_col=\"Date\")"
   ]
  },
  {
   "cell_type": "code",
   "execution_count": null,
   "id": "0a798f23-acf6-4f28-a892-fcd4b35c5218",
   "metadata": {},
   "outputs": [],
   "source": [
    "make_graph(gamestop_data, \"GameStop Stock Price Over Time\")"
   ]
  }
 ],
 "metadata": {
  "kernelspec": {
   "display_name": "Python 3",
   "language": "python",
   "name": "python3"
  },
  "language_info": {
   "codemirror_mode": {
    "name": "ipython",
    "version": 3
   },
   "file_extension": ".py",
   "mimetype": "text/x-python",
   "name": "python",
   "nbconvert_exporter": "python",
   "pygments_lexer": "ipython3",
   "version": "3.11.1"
  }
 },
 "nbformat": 4,
 "nbformat_minor": 5
}
