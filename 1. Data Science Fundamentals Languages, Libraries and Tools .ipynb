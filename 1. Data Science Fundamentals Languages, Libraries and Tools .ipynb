{
 "cells": [
  {
   "cell_type": "markdown",
   "id": "0904bc13-c864-449b-a3a9-bba90d3a7fb5",
   "metadata": {},
   "source": [
    "My Jupyter Notebook"
   ]
  },
  {
   "cell_type": "markdown",
   "id": "9a7b4106-1d26-4fc7-8892-a01acefca439",
   "metadata": {},
   "source": [
    "# Introduction\n",
    "This notebook demonstrates key concepts in Data Science, covering various languages, libraries, and tools used in the field. We will also explore arithmetic expressions and perform simple conversions."
   ]
  },
  {
   "cell_type": "markdown",
   "id": "6fd7c05f-5940-446d-a29d-69ed70bbfb42",
   "metadata": {},
   "source": [
    "Data Science Languages are:\n",
    "- Python\n",
    "- R\n",
    "- SQL\n",
    "- Julia"
   ]
  },
  {
   "cell_type": "markdown",
   "id": "92c4cb25-12f0-40cd-9f0c-78cd5175979b",
   "metadata": {},
   "source": [
    "Data Science Libraries are:\n",
    "Libraries provide pre-written functions and modules to streamline the development process in Data Science. Below are some popular libraries:\n",
    "- Pandas (for data manipulation)\n",
    "- NumPy (for numerical operations)\n",
    "- Matplotlib (for data visualization)\n",
    "- Scikit-learn (for machine learning)\n",
    "- TensorFlow (for deep learning)"
   ]
  },
  {
   "cell_type": "markdown",
   "id": "bd244bb0-1ba9-480b-814b-d67baeae8f59",
   "metadata": {},
   "source": [
    "Data Science Tools are:\n",
    "| Tool          | Purpose              |\n",
    "| ------------- | -------------------- |\n",
    "| Jupyter       | Interactive notebooks|\n",
    "| Python        | Programming language |\n",
    "| Pandas        | Data manipulation    |\n",
    "| Tableau       | Data visualization   |\n",
    "| GitHub        | Version control      |"
   ]
  },
  {
   "cell_type": "markdown",
   "id": "2c1bc4e6-4a1d-4088-b28d-0d959287c337",
   "metadata": {},
   "source": [
    "Arithmetic Expression Intro\n",
    "In this section, we will demonstrate how to perform basic arithmetic operations such as addition, subtraction, multiplication, and division."
   ]
  },
  {
   "cell_type": "code",
   "execution_count": null,
   "id": "ba24fb46-dff0-434e-a90d-68d81ba30fa3",
   "metadata": {},
   "outputs": [],
   "source": [
    "# Multiplication\n",
    "result_multiply = 5 * 3\n",
    "print(\"The result of multiplication is:\", result_multiply)\n",
    "\n",
    "# Addition\n",
    "result_add = 5 + 3\n",
    "print(\"The result of addition is:\", result_add)"
   ]
  },
  {
   "cell_type": "code",
   "execution_count": null,
   "id": "026b02b7-4048-4d4d-a78b-c3d744054dd2",
   "metadata": {},
   "outputs": [],
   "source": [
    "# Convert hours to minutes\n",
    "hours = 2.5  # Replace with any number of hours\n",
    "minutes = hours * 60\n",
    "print(f\"{hours} hours is equal to {minutes} minutes.\")"
   ]
  },
  {
   "cell_type": "markdown",
   "id": "b2b501fc-d0ee-4af8-b830-c84697ababa2",
   "metadata": {},
   "source": [
    "Objectives of this notebook\n",
    "- Understand key data science languages and libraries.\n",
    "- Learn how to use common data science tools.\n",
    "- Perform basic arithmetic operations and conversions."
   ]
  },
  {
   "cell_type": "markdown",
   "id": "960156dd-5eb5-4f76-8b40-b1b065acbedd",
   "metadata": {},
   "source": [
    "Author Name: AHEESHA B P"
   ]
  }
 ],
 "metadata": {
  "kernelspec": {
   "display_name": "Python 3",
   "language": "python",
   "name": "python3"
  },
  "language_info": {
   "codemirror_mode": {
    "name": "ipython",
    "version": 3
   },
   "file_extension": ".py",
   "mimetype": "text/x-python",
   "name": "python",
   "nbconvert_exporter": "python",
   "pygments_lexer": "ipython3",
   "version": "3.11.1"
  }
 },
 "nbformat": 4,
 "nbformat_minor": 5
}
